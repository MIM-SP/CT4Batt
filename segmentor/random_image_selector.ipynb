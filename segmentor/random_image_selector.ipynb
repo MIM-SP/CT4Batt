{
 "cells": [
  {
   "cell_type": "code",
   "execution_count": 2,
   "id": "d1765c93-883c-438d-ba84-d4304c824070",
   "metadata": {},
   "outputs": [
    {
     "name": "stdout",
     "output_type": "stream",
     "text": [
      "Finished selecting and copying 1 new images and their masks.\n"
     ]
    }
   ],
   "source": [
    "import os\n",
    "import random\n",
    "import shutil\n",
    "\n",
    "# Directories\n",
    "images_repo_dir = \"images_repo\"\n",
    "masks_repo_dir = \"masks_repo\"\n",
    "images_dir = \"images\"\n",
    "masks_dir = \"masks\"\n",
    "\n",
    "# Number of new images to select\n",
    "num_new_images = 1\n",
    "\n",
    "# Ensure output directories exist (in case not)\n",
    "os.makedirs(images_dir, exist_ok=True)\n",
    "os.makedirs(masks_dir, exist_ok=True)\n",
    "\n",
    "# List all processed images in images_dir\n",
    "processed_images = [f for f in os.listdir(images_dir) if os.path.isfile(os.path.join(images_dir, f))]\n",
    "processed_basenames = {os.path.splitext(img)[0] for img in processed_images}\n",
    "\n",
    "# List all images in images_repo\n",
    "repo_images = [f for f in os.listdir(images_repo_dir) if os.path.isfile(os.path.join(images_repo_dir, f))]\n",
    "\n",
    "# Filter out images that are already processed\n",
    "unprocessed_images = []\n",
    "for img in repo_images:\n",
    "    base_name = os.path.splitext(img)[0]\n",
    "    if base_name not in processed_basenames:\n",
    "        unprocessed_images.append(img)\n",
    "\n",
    "if len(unprocessed_images) < num_new_images:\n",
    "    raise ValueError(f\"Not enough unprocessed images in {images_repo_dir} to select {num_new_images} samples.\")\n",
    "\n",
    "# Randomly select 11 new images\n",
    "selected_images = random.sample(unprocessed_images, num_new_images)\n",
    "\n",
    "for img in selected_images:\n",
    "    base_name = os.path.splitext(img)[0]\n",
    "\n",
    "    # Copy the image to images_dir\n",
    "    src_img = os.path.join(images_repo_dir, img)\n",
    "    dst_img = os.path.join(images_dir, img)\n",
    "    shutil.copy(src_img, dst_img)\n",
    "\n",
    "    # Find the corresponding mask in masks_repo_dir\n",
    "    # We assume there's exactly one mask file with the same base_name\n",
    "    possible_masks = [m for m in os.listdir(masks_repo_dir) if os.path.splitext(m)[0] == base_name]\n",
    "\n",
    "    if len(possible_masks) == 1:\n",
    "        mask_file = possible_masks[0]\n",
    "        src_mask = os.path.join(masks_repo_dir, mask_file)\n",
    "        dst_mask = os.path.join(masks_dir, mask_file)\n",
    "        shutil.copy(src_mask, dst_mask)\n",
    "    elif len(possible_masks) == 0:\n",
    "        print(f\"Warning: No corresponding mask found for {img}\")\n",
    "    else:\n",
    "        print(f\"Warning: Multiple masks found for {img}: {possible_masks}\")\n",
    "\n",
    "print(f\"Finished selecting and copying {num_new_images} new images and their masks.\")"
   ]
  },
  {
   "cell_type": "code",
   "execution_count": null,
   "id": "6fbac7f2-1b45-4f8c-afbf-e3457a8ba0d1",
   "metadata": {},
   "outputs": [],
   "source": []
  }
 ],
 "metadata": {
  "kernelspec": {
   "display_name": "Python 3 (ipykernel)",
   "language": "python",
   "name": "python3"
  },
  "language_info": {
   "codemirror_mode": {
    "name": "ipython",
    "version": 3
   },
   "file_extension": ".py",
   "mimetype": "text/x-python",
   "name": "python",
   "nbconvert_exporter": "python",
   "pygments_lexer": "ipython3",
   "version": "3.11.0"
  }
 },
 "nbformat": 4,
 "nbformat_minor": 5
}
